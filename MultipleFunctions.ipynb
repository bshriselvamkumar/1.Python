{
 "cells": [
  {
   "cell_type": "code",
   "execution_count": 86,
   "metadata": {},
   "outputs": [
    {
     "ename": "SyntaxError",
     "evalue": "'return' outside function (<ipython-input-86-0b7041946ca8>, line 16)",
     "output_type": "error",
     "traceback": [
      "\u001b[1;36m  File \u001b[1;32m\"<ipython-input-86-0b7041946ca8>\"\u001b[1;36m, line \u001b[1;32m16\u001b[0m\n\u001b[1;33m    return message\u001b[0m\n\u001b[1;37m    ^\u001b[0m\n\u001b[1;31mSyntaxError\u001b[0m\u001b[1;31m:\u001b[0m 'return' outside function\n"
     ]
    }
   ],
   "source": [
    " class MultipleFunctions():\n",
    "    def BMI():\n",
    "        BMI=int(input(\"Enter your BMI Index:\"))\n",
    "    if(BMI<18.5):\n",
    "        print(\"UnderWeight\")\n",
    "        message=\"UnderWeight\"\n",
    "    elif(BMI<24.9):\n",
    "        print(\"normal\")\n",
    "        message=\"normal\"\n",
    "    elif(BMI<29.9):\n",
    "         print(\"OverWeight\")\n",
    "         message=\"OverWeight\"\n",
    "    else: \n",
    "        print(\"Very OverWeight\")\n",
    "        message=\"Very OverWeight\"       \n",
    "    return message\n",
    "\n",
    "def Subfields():\n",
    "        print(\"Sub-fields in AI are:\")\n",
    "        print(\"Machine Learning\")\n",
    "        print(\"Neural Networks\")\n",
    "        print(\"Vision\")\n",
    "        print(\"Robotics\")\n",
    "        print(\"Speech Processing\")\n",
    "        print(\"Natural Language Processing\")\n",
    "        \n",
    "def EligiblityForMarriage():\n",
    "        Gender = (str(input(\"Your Gender: \")))\n",
    "        age = (int(input(\"Your Age: \")))\n",
    "        if (age<21):\n",
    "         print(\"NOT ELIGIBLE\")\n",
    "        else:\n",
    "         print(\"ELIGIBLE\")\n",
    "            \n",
    "def oddEven():\n",
    "    num=int(input(\"Enter a number:\"))\n",
    "    if ((num%2)==1):\n",
    "        print(\"odd number\")\n",
    "        message=(\"odd number\")\n",
    "    else:\n",
    "        print(num,\" is Even number\")\n",
    "        message=\"Even number\"\n",
    "    return message\n",
    "\n",
    "def Height():\n",
    "        Height1=2\n",
    "        Height2=4\n",
    "        Breadth=4\n",
    "        n1=int(input(\"Height:\"))\n",
    "        n2=int(input(\"Breadth:\"))\n",
    "        n3=(input(\"Area formula:\"))       \n",
    "        n4=(input(\"Area of Triangle:\"))\n",
    "        n5=int(input(\"Height1:\"))\n",
    "        n6=int(input(\"Height2:\"))\n",
    "        n7=int(input(\"Breadth:\"))\n",
    "        n8=(input(\"Perimeter formula:\"))\n",
    "        n9=(input(\"Perimeter of Triangle:\"),(Height1+Height2+Breadth))"
   ]
  },
  {
   "cell_type": "code",
   "execution_count": null,
   "metadata": {},
   "outputs": [],
   "source": []
  }
 ],
 "metadata": {
  "kernelspec": {
   "display_name": "Python 3",
   "language": "python",
   "name": "python3"
  },
  "language_info": {
   "codemirror_mode": {
    "name": "ipython",
    "version": 3
   },
   "file_extension": ".py",
   "mimetype": "text/x-python",
   "name": "python",
   "nbconvert_exporter": "python",
   "pygments_lexer": "ipython3",
   "version": "3.7.4"
  }
 },
 "nbformat": 4,
 "nbformat_minor": 2
}
