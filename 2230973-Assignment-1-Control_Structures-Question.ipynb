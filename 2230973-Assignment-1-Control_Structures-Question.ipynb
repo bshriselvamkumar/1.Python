{
 "cells": [
  {
   "cell_type": "code",
   "execution_count": 1,
   "metadata": {},
   "outputs": [
    {
     "name": "stdout",
     "output_type": "stream",
     "text": [
      "Welcome to Assignment 1\n"
     ]
    }
   ],
   "source": [
    "print(\"Welcome to Assignment 1\")"
   ]
  },
  {
   "cell_type": "code",
   "execution_count": 2,
   "metadata": {},
   "outputs": [
    {
     "name": "stdout",
     "output_type": "stream",
     "text": [
      "num1= 10\n",
      "num2= 30\n",
      "add= 40\n"
     ]
    }
   ],
   "source": [
    "num1=10\n",
    "print(\"num1=\",num1)\n",
    "num2=30\n",
    "print(\"num2=\",num2)\n",
    "print(\"add=\",num1+num2)"
   ]
  },
  {
   "cell_type": "code",
   "execution_count": 3,
   "metadata": {},
   "outputs": [],
   "source": [
    "def BMI():\n",
    "    BMI=int(input(\"Enter your BMI Index:\"))\n",
    "    if(BMI<18.5):\n",
    "        print(\"UnderWeight\")\n",
    "        message=\"UnderWeight\"\n",
    "    elif(BMI<24.9):\n",
    "        print(\"normal\")\n",
    "        message=\"normal\"\n",
    "    elif(BMI<29.9):\n",
    "         print(\"OverWeight\")\n",
    "         message=\"OverWeight\"\n",
    "    else: \n",
    "        print(\"Very OverWeight\")\n",
    "        message=\"Very OverWeight\"\n",
    "    return message"
   ]
  },
  {
   "cell_type": "code",
   "execution_count": 4,
   "metadata": {},
   "outputs": [
    {
     "name": "stdout",
     "output_type": "stream",
     "text": [
      "Enter your BMI Index:34\n",
      "Very OverWeight\n"
     ]
    },
    {
     "data": {
      "text/plain": [
       "'Very OverWeight'"
      ]
     },
     "execution_count": 4,
     "metadata": {},
     "output_type": "execute_result"
    }
   ],
   "source": [
    "BMI()"
   ]
  },
  {
   "cell_type": "code",
   "execution_count": null,
   "metadata": {},
   "outputs": [],
   "source": []
  }
 ],
 "metadata": {
  "kernelspec": {
   "display_name": "Python 3",
   "language": "python",
   "name": "python3"
  },
  "language_info": {
   "codemirror_mode": {
    "name": "ipython",
    "version": 3
   },
   "file_extension": ".py",
   "mimetype": "text/x-python",
   "name": "python",
   "nbconvert_exporter": "python",
   "pygments_lexer": "ipython3",
   "version": "3.7.4"
  }
 },
 "nbformat": 4,
 "nbformat_minor": 2
}
